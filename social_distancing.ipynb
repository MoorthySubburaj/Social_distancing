{
 "cells": [
  {
   "cell_type": "code",
   "execution_count": null,
   "metadata": {},
   "outputs": [],
   "source": [
    "def timing(f):\n",
    "    def wrap(*args, **kwargs):\n",
    "        time1 = time.time()\n",
    "        ret = f(*args, **kwargs)\n",
    "        time2 = time.time()\n",
    "        print('{:s} function took {:.3f} ms'.format(f.__name__, (time2-time1)*1000.0))\n",
    "\n",
    "        return ret\n",
    "    return wrap"
   ]
  },
  {
   "cell_type": "code",
   "execution_count": null,
   "metadata": {},
   "outputs": [],
   "source": [
    "from imageai import Detection\n",
    "import matplotlib.pyplot as plt\n",
    "from scipy.spatial import KDTree\n",
    "import cv2\n",
    "import numpy as np\n",
    "import time"
   ]
  },
  {
   "cell_type": "code",
   "execution_count": null,
   "metadata": {},
   "outputs": [],
   "source": [
    "@timing\n",
    "def get_yolo():\n",
    "    yolo='yolo.h5'\n",
    "#     yolo='yolo-tiny.h5'\n",
    "    detector=Detection.ObjectDetection()\n",
    "    detector.setModelTypeAsYOLOv3()\n",
    "#     detector.setModelTypeAsTinyYOLOv3()\n",
    "    detector.setModelPath(yolo)\n",
    "    detector.loadModel()\n",
    "    return detector"
   ]
  },
  {
   "cell_type": "code",
   "execution_count": null,
   "metadata": {},
   "outputs": [],
   "source": [
    "def show_frame(frame,cap):\n",
    "    cv2.imshow('frame',frame)\n",
    "    if(cv2.waitKey(25)&0XFF==ord('q')):\n",
    "        cv2.destroyAllWindows()\n",
    "        cap.release()"
   ]
  },
  {
   "cell_type": "code",
   "execution_count": null,
   "metadata": {},
   "outputs": [],
   "source": [
    "def get_bboxes(frame,detector):\n",
    "    custom_class=detector.CustomObjects(person=True)\n",
    "    img,preds=detector.detectCustomObjectsFromImage(input_image=frame, \n",
    "                      custom_objects=custom_class, input_type=\"array\",\n",
    "                      output_type=\"array\",\n",
    "                      minimum_percentage_probability=50,\n",
    "                      display_percentage_probability=False,\n",
    "                      display_object_name=False)\n",
    "    return img,preds"
   ]
  },
  {
   "cell_type": "code",
   "execution_count": null,
   "metadata": {},
   "outputs": [],
   "source": [
    "def get_center_pts(preds,frame):\n",
    "    centers=[]\n",
    "    for pred in preds:\n",
    "        x1,y1,x2,y2=pred.get('box_points')\n",
    "        ct=(int((x1+x2)/2),int((y1+y2)/2))\n",
    "        centers.append(ct)\n",
    "    return centers"
   ]
  },
  {
   "cell_type": "code",
   "execution_count": null,
   "metadata": {},
   "outputs": [],
   "source": [
    "def find_close_points(frame,centers,cut_off): \n",
    "    X=np.array(centers)\n",
    "    tree=KDTree(X)\n",
    "    for pivot_xy in X:\n",
    "        violated_pts=tree.query_ball_point(pivot_xy,r=cut_off)\n",
    "        if(len(violated_pts)>1):\n",
    "            cv2.line(frame,(X[violated_pts][0][0], X[violated_pts][0][1]), (X[violated_pts][1][0], X[violated_pts][1][1]), (0, 255, 0), thickness=2)\n",
    "            cv2.circle(frame,tuple(pivot_xy),radius=4,color=(0,0,255),thickness=-1)\n",
    "        else:\n",
    "            cv2.circle(frame,tuple(pivot_xy),radius=4,color=(0,255,0),thickness=-1)\n",
    "    return frame    "
   ]
  },
  {
   "cell_type": "code",
   "execution_count": null,
   "metadata": {},
   "outputs": [],
   "source": [
    "@timing\n",
    "def process_frame(video_path):\n",
    "    \n",
    "    cap=cv2.VideoCapture(video_path)    \n",
    "    width=int(cap.get(3))\n",
    "    height=int(cap.get(4))\n",
    "    \n",
    "    writer=cv2.VideoWriter('output_1.avi',cv2.VideoWriter_fourcc(*'MJPG'),24.0,(width,height))\n",
    "    \n",
    "    detector=get_yolo()\n",
    "    \n",
    "    if(cap.isOpened()==False):\n",
    "        print('No video file or incorrect path')\n",
    "    \n",
    "    while(cap.isOpened()):        \n",
    "        ret,frame=cap.read()\n",
    "        if(ret==True):\n",
    "            frame_count=frame_count+1          \n",
    "            box_img,preds=get_bboxes(frame,detector)            \n",
    "            centers=get_center_pts(preds,box_img)\n",
    "            out_img=find_close_points(frame,centers,cut_off=70)\n",
    "            writer.write(out_img)\n",
    "        else:\n",
    "            break\n",
    "    cap.release()\n",
    "    writer.release()"
   ]
  },
  {
   "cell_type": "code",
   "execution_count": null,
   "metadata": {},
   "outputs": [],
   "source": [
    "process_frame(video_path='input.mp4')"
   ]
  }
 ],
 "metadata": {
  "kernelspec": {
   "display_name": "Python 3",
   "language": "python",
   "name": "python3"
  },
  "language_info": {
   "codemirror_mode": {
    "name": "ipython",
    "version": 3
   },
   "file_extension": ".py",
   "mimetype": "text/x-python",
   "name": "python",
   "nbconvert_exporter": "python",
   "pygments_lexer": "ipython3",
   "version": "3.7.4"
  }
 },
 "nbformat": 4,
 "nbformat_minor": 2
}
